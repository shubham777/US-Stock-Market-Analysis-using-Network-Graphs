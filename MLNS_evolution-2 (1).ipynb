{
  "nbformat": 4,
  "nbformat_minor": 0,
  "metadata": {
    "colab": {
      "provenance": []
    },
    "kernelspec": {
      "name": "python3",
      "display_name": "Python 3"
    },
    "language_info": {
      "name": "python"
    }
  },
  "cells": [
    {
      "cell_type": "code",
      "execution_count": 3,
      "metadata": {
        "colab": {
          "base_uri": "https://localhost:8080/"
        },
        "id": "cm6NOcb1JrB1",
        "outputId": "d0eb5356-7c9b-4185-9174-b4b574e0105a"
      },
      "outputs": [
        {
          "output_type": "stream",
          "name": "stdout",
          "text": [
            "Looking in indexes: https://pypi.org/simple, https://us-python.pkg.dev/colab-wheels/public/simple/\n",
            "Requirement already satisfied: yahoo_fin in /usr/local/lib/python3.9/dist-packages (0.8.9.1)\n",
            "Requirement already satisfied: pandas in /usr/local/lib/python3.9/dist-packages (from yahoo_fin) (1.5.3)\n",
            "Requirement already satisfied: feedparser in /usr/local/lib/python3.9/dist-packages (from yahoo_fin) (6.0.10)\n",
            "Requirement already satisfied: requests in /usr/local/lib/python3.9/dist-packages (from yahoo_fin) (2.27.1)\n",
            "Requirement already satisfied: requests-html in /usr/local/lib/python3.9/dist-packages (from yahoo_fin) (0.10.0)\n",
            "Requirement already satisfied: sgmllib3k in /usr/local/lib/python3.9/dist-packages (from feedparser->yahoo_fin) (1.0.0)\n",
            "Requirement already satisfied: pytz>=2020.1 in /usr/local/lib/python3.9/dist-packages (from pandas->yahoo_fin) (2022.7.1)\n",
            "Requirement already satisfied: python-dateutil>=2.8.1 in /usr/local/lib/python3.9/dist-packages (from pandas->yahoo_fin) (2.8.2)\n",
            "Requirement already satisfied: numpy>=1.20.3 in /usr/local/lib/python3.9/dist-packages (from pandas->yahoo_fin) (1.22.4)\n",
            "Requirement already satisfied: certifi>=2017.4.17 in /usr/local/lib/python3.9/dist-packages (from requests->yahoo_fin) (2022.12.7)\n",
            "Requirement already satisfied: urllib3<1.27,>=1.21.1 in /usr/local/lib/python3.9/dist-packages (from requests->yahoo_fin) (1.26.15)\n",
            "Requirement already satisfied: charset-normalizer~=2.0.0 in /usr/local/lib/python3.9/dist-packages (from requests->yahoo_fin) (2.0.12)\n",
            "Requirement already satisfied: idna<4,>=2.5 in /usr/local/lib/python3.9/dist-packages (from requests->yahoo_fin) (3.4)\n",
            "Requirement already satisfied: pyquery in /usr/local/lib/python3.9/dist-packages (from requests-html->yahoo_fin) (2.0.0)\n",
            "Requirement already satisfied: parse in /usr/local/lib/python3.9/dist-packages (from requests-html->yahoo_fin) (1.19.0)\n",
            "Requirement already satisfied: pyppeteer>=0.0.14 in /usr/local/lib/python3.9/dist-packages (from requests-html->yahoo_fin) (1.0.2)\n",
            "Requirement already satisfied: fake-useragent in /usr/local/lib/python3.9/dist-packages (from requests-html->yahoo_fin) (1.1.3)\n",
            "Requirement already satisfied: w3lib in /usr/local/lib/python3.9/dist-packages (from requests-html->yahoo_fin) (2.1.1)\n",
            "Requirement already satisfied: bs4 in /usr/local/lib/python3.9/dist-packages (from requests-html->yahoo_fin) (0.0.1)\n",
            "Requirement already satisfied: pyee<9.0.0,>=8.1.0 in /usr/local/lib/python3.9/dist-packages (from pyppeteer>=0.0.14->requests-html->yahoo_fin) (8.2.2)\n",
            "Requirement already satisfied: appdirs<2.0.0,>=1.4.3 in /usr/local/lib/python3.9/dist-packages (from pyppeteer>=0.0.14->requests-html->yahoo_fin) (1.4.4)\n",
            "Requirement already satisfied: tqdm<5.0.0,>=4.42.1 in /usr/local/lib/python3.9/dist-packages (from pyppeteer>=0.0.14->requests-html->yahoo_fin) (4.65.0)\n",
            "Requirement already satisfied: importlib-metadata>=1.4 in /usr/local/lib/python3.9/dist-packages (from pyppeteer>=0.0.14->requests-html->yahoo_fin) (6.4.1)\n",
            "Requirement already satisfied: websockets<11.0,>=10.0 in /usr/local/lib/python3.9/dist-packages (from pyppeteer>=0.0.14->requests-html->yahoo_fin) (10.4)\n",
            "Requirement already satisfied: six>=1.5 in /usr/local/lib/python3.9/dist-packages (from python-dateutil>=2.8.1->pandas->yahoo_fin) (1.16.0)\n",
            "Requirement already satisfied: beautifulsoup4 in /usr/local/lib/python3.9/dist-packages (from bs4->requests-html->yahoo_fin) (4.11.2)\n",
            "Requirement already satisfied: importlib-resources>=5.0 in /usr/local/lib/python3.9/dist-packages (from fake-useragent->requests-html->yahoo_fin) (5.12.0)\n",
            "Requirement already satisfied: cssselect>=1.2.0 in /usr/local/lib/python3.9/dist-packages (from pyquery->requests-html->yahoo_fin) (1.2.0)\n",
            "Requirement already satisfied: lxml>=2.1 in /usr/local/lib/python3.9/dist-packages (from pyquery->requests-html->yahoo_fin) (4.9.2)\n",
            "Requirement already satisfied: zipp>=0.5 in /usr/local/lib/python3.9/dist-packages (from importlib-metadata>=1.4->pyppeteer>=0.0.14->requests-html->yahoo_fin) (3.15.0)\n",
            "Requirement already satisfied: soupsieve>1.2 in /usr/local/lib/python3.9/dist-packages (from beautifulsoup4->bs4->requests-html->yahoo_fin) (2.4.1)\n"
          ]
        }
      ],
      "source": [
        "import pandas as pd\n",
        "import yfinance as yf\n",
        "import numpy as np\n",
        "import networkx as nx\n",
        "import community.community_louvain as community\n",
        "from scipy.stats import linregress\n",
        "!pip install yahoo_fin\n",
        "import matplotlib.pyplot as plt\n",
        "from statsmodels.tsa.stattools import adfuller\n",
        "import itertools\n",
        "from yahoo_fin import stock_info as s\n",
        "import os"
      ]
    },
    {
      "cell_type": "markdown",
      "source": [
        "**Get Data**"
      ],
      "metadata": {
        "id": "zLCIATlDJy1y"
      }
    },
    {
      "cell_type": "code",
      "source": [
        "table=pd.read_html('https://en.wikipedia.org/wiki/List_of_S%26P_500_companies')\n",
        "df = table[0]\n",
        "companies=[]\n",
        "for i in range(len(df['Symbol'])):\n",
        "  companies.append(df['Symbol'][i])"
      ],
      "metadata": {
        "id": "WZnhv3P0JwWx"
      },
      "execution_count": 4,
      "outputs": []
    },
    {
      "cell_type": "code",
      "source": [
        "data = {}\n",
        "\n",
        "for ticker in companies:\n",
        "    # Create a Ticker object for the current ticker\n",
        "    ticker_obj = yf.Ticker(ticker)\n",
        "\n",
        "    # Get the industry sector of the current ticker\n",
        "    if 'sector' in ticker_obj.info:\n",
        "        sector = ticker_obj.info['sector']\n",
        "    else:\n",
        "        sector = 'N/A'\n",
        "\n",
        "    # Get historical data for the current ticker\n",
        "    ticker_data = ticker_obj.history(start=\"2018-01-01\", end=\"2022-12-31\")\n",
        "\n",
        "    # Add a 'Symbol' column with the current ticker symbol\n",
        "    ticker_data['Symbol'] = ticker\n",
        "\n",
        "    # Add a 'Sector' column with the industry sector of the current ticker\n",
        "    ticker_data['Sector'] = sector\n",
        "\n",
        "    # Store the historical data for the current ticker in the dictionary\n",
        "    data[ticker] = ticker_data\n",
        "\n",
        "# Concatenate the historical data for all tickers into a single DataFrame\n",
        "df = pd.concat(data.values(), keys=data.keys())\n"
      ],
      "metadata": {
        "colab": {
          "base_uri": "https://localhost:8080/"
        },
        "id": "TNjUeuIMKAbj",
        "outputId": "387d31e0-e04b-4ceb-ca1a-a34995e5db17"
      },
      "execution_count": 5,
      "outputs": [
        {
          "output_type": "stream",
          "name": "stdout",
          "text": [
            "Got error from yahoo api for ticker BRK.B, Error: {'code': 'Not Found', 'description': 'No data found, symbol may be delisted'}\n",
            "- BRK.B: No timezone found, symbol may be delisted\n",
            "BF.B: No data found for this date range, symbol may be delisted\n"
          ]
        }
      ]
    },
    {
      "cell_type": "code",
      "source": [
        "col_p = 'close'\n",
        "\n",
        "concatenated_df = pd.concat(data.values(), keys=data.keys())\n",
        "concatenated_df.reset_index(inplace=True)\n",
        "concatenated_df.rename(columns={'level_0': 'ticker', 'Date': 'date', 'Open': 'open', 'High': 'high', 'Low': 'low', 'Close': 'close', 'Volume': 'vol'}, inplace=True)\n",
        "\n",
        "# Create the df_price DataFrame\n",
        "df_price = concatenated_df[['ticker', 'date', col_p]]\n",
        "df_price = df_price.drop_duplicates(subset=['date', 'ticker'], keep='last')\n",
        "df_price['date'] = pd.to_datetime(df_price['date'], format='%Y-%m-%d')\n",
        "df_price.set_index(['date', 'ticker'], inplace=True)\n",
        "df_price = df_price.unstack()[col_p]\n",
        "df_price.reset_index(inplace=True)\n",
        "df_price.fillna(method='bfill', inplace=True)\n",
        "df_price.fillna(method='ffill', inplace=True)"
      ],
      "metadata": {
        "id": "DqQ10YpHKEBh"
      },
      "execution_count": 6,
      "outputs": []
    },
    {
      "cell_type": "markdown",
      "source": [
        "**Compute log returns**"
      ],
      "metadata": {
        "id": "uCxaKKtSKGvs"
      }
    },
    {
      "cell_type": "code",
      "source": [
        "import scipy.signal\n",
        "t = 1\n",
        "for key in df_price.columns:\n",
        "    if key not in companies:\n",
        "        continue\n",
        "    try:\n",
        "        df_price[key] = np.log(df_price[key]) - np.log(df_price[key].shift(t))\n",
        "    except:\n",
        "        print (key)\n",
        "df_price.set_index('date',inplace=True)"
      ],
      "metadata": {
        "id": "IXjQ7kXfKJBk"
      },
      "execution_count": 7,
      "outputs": []
    },
    {
      "cell_type": "markdown",
      "source": [
        "d"
      ],
      "metadata": {
        "id": "JQRKlU4tLG-u"
      }
    },
    {
      "cell_type": "code",
      "source": [
        "# Implement the sliding window approach\n",
        "window_size = 63\n",
        "step_size = 5\n",
        "corr_dict = {}\n",
        "\n",
        "for i in range(0, len(df_price) - window_size + 1, step_size):\n",
        "    dkey = i\n",
        "    corr_matrix = df_price.iloc[i:(i + window_size)].corr(method='pearson')\n",
        "    corr_matrix.fillna(0, inplace=True)\n",
        "    corr_dict[dkey] = corr_matrix\n",
        "\n",
        "# Plot the average correlation over time\n",
        "x = list(corr_dict.keys())\n",
        "y = [np.mean(np.abs(corr_matrix.values)) for corr_matrix in corr_dict.values()]\n",
        "\n",
        "plt.plot(x, y)\n",
        "plt.xlabel('Days')\n",
        "plt.ylabel('Mean Correlation')\n",
        "plt.show()"
      ],
      "metadata": {
        "colab": {
          "base_uri": "https://localhost:8080/",
          "height": 455
        },
        "id": "TFzEB03_LGQp",
        "outputId": "86616e36-9656-41d4-89be-b042100d3cf7"
      },
      "execution_count": 25,
      "outputs": [
        {
          "output_type": "display_data",
          "data": {
            "text/plain": [
              "<Figure size 640x480 with 1 Axes>"
            ],
            "image/png": "[encoded data removed]"
          },
          "metadata": {}
        }
      ]
    },
    {
      "cell_type": "code",
      "source": [
        "def build_network(corr_matrix, threshold):\n",
        "    G = nx.Graph()\n",
        "    G.add_nodes_from(corr_matrix.index)\n",
        "\n",
        "    # Add edges based on the correlation threshold\n",
        "    edges = [(i, j, {'weight': abs(corr_matrix.loc[i, j])}) for i, j in itertools.combinations(corr_matrix.index, 2) if abs(corr_matrix.loc[i, j]) >= threshold]\n",
        "    G.add_edges_from(edges)\n",
        "\n",
        "    return G\n",
        "\n"
      ],
      "metadata": {
        "id": "m7x640hQKl0Z"
      },
      "execution_count": 9,
      "outputs": []
    },
    {
      "cell_type": "code",
      "source": [
        "num_keys = len(corr_dict.keys())\n",
        "print(f\"The corr_dict dictionary has {num_keys} keys.\")"
      ],
      "metadata": {
        "colab": {
          "base_uri": "https://localhost:8080/"
        },
        "id": "oGdVwbFTNSyN",
        "outputId": "225224a7-178b-4951-8609-fe3f4ad6bbfd"
      },
      "execution_count": 10,
      "outputs": [
        {
          "output_type": "stream",
          "name": "stdout",
          "text": [
            "The corr_dict dictionary has 240 keys.\n"
          ]
        }
      ]
    },
    {
      "cell_type": "code",
      "source": [
        "dynamic_networks = {}\n",
        "threshold = 0.5 \n",
        "\n",
        "for dkey, corr_matrix in corr_dict.items():\n",
        "    dynamic_networks[dkey] = build_network(corr_matrix, threshold)\n",
        "    print(f\"{dkey} network built with {len(dynamic_networks[dkey])} nodes.\")\n"
      ],
      "metadata": {
        "id": "8ABOOmDQK017"
      },
      "execution_count": null,
      "outputs": []
    },
    {
      "cell_type": "code",
      "source": [
        "degree_centrality = {dkey: nx.degree_centrality(network) for dkey, network in dynamic_networks.items()}"
      ],
      "metadata": {
        "id": "cMOglZ8tMCOq"
      },
      "execution_count": 12,
      "outputs": []
    },
    {
      "cell_type": "code",
      "source": [
        "betweenness_centrality = {}\n",
        "for dkey, network in dynamic_networks.items():\n",
        "    print(f\"Calculating betweenness centrality for dynamic network {dkey}...\")\n",
        "    betweenness_centrality[dkey] = nx.betweenness_centrality(network)\n"
      ],
      "metadata": {
        "id": "fnQpeNEQR0q8"
      },
      "execution_count": null,
      "outputs": []
    },
    {
      "cell_type": "code",
      "source": [
        "closeness_centrality = {}\n",
        "for dkey, network in dynamic_networks.items():\n",
        "    print(f\"Calculating closeness centrality for dynamic network {dkey}...\")\n",
        "    closeness_centrality[dkey] = nx.closeness_centrality(network)\n"
      ],
      "metadata": {
        "id": "QSy5aVGKR3SD"
      },
      "execution_count": null,
      "outputs": []
    },
    {
      "cell_type": "code",
      "source": [
        "communities = {}\n",
        "for dkey, network in dynamic_networks.items():\n",
        "    print(f\"Finding communities for dynamic network {dkey}...\")\n",
        "    communities[dkey] = community.best_partition(network)"
      ],
      "metadata": {
        "id": "_K5mEGaeMQQ0"
      },
      "execution_count": null,
      "outputs": []
    },
    {
      "cell_type": "code",
      "source": [
        "!pip install imageio"
      ],
      "metadata": {
        "colab": {
          "base_uri": "https://localhost:8080/"
        },
        "id": "BfLkhj0GMYtU",
        "outputId": "2ca75f22-a639-48d8-e77c-2bf18ee3c548"
      },
      "execution_count": 16,
      "outputs": [
        {
          "output_type": "stream",
          "name": "stdout",
          "text": [
            "Looking in indexes: https://pypi.org/simple, https://us-python.pkg.dev/colab-wheels/public/simple/\n",
            "Requirement already satisfied: imageio in /usr/local/lib/python3.9/dist-packages (2.25.1)\n",
            "Requirement already satisfied: pillow>=8.3.2 in /usr/local/lib/python3.9/dist-packages (from imageio) (8.4.0)\n",
            "Requirement already satisfied: numpy in /usr/local/lib/python3.9/dist-packages (from imageio) (1.22.4)\n"
          ]
        }
      ]
    },
    {
      "cell_type": "markdown",
      "source": [
        "**draw with no sector colors**"
      ],
      "metadata": {
        "id": "ikH3rKTdRWlP"
      }
    },
    {
      "cell_type": "code",
      "source": [
        "import imageio\n",
        "from IPython.display import Image"
      ],
      "metadata": {
        "id": "3pqmXV1CbcOC"
      },
      "execution_count": 19,
      "outputs": []
    },
    {
      "cell_type": "code",
      "source": [
        "def draw_network(G, pos=None, title=None, filename=None):\n",
        "    plt.figure(figsize=(10, 10))\n",
        "    if not pos:\n",
        "        pos = nx.spring_layout(G)\n",
        "    nx.draw(G, pos, node_size=30, edge_color='grey', with_labels=False)\n",
        "    if title:\n",
        "        plt.title(title)\n",
        "    if filename:\n",
        "        plt.savefig(filename)\n",
        "        plt.close()\n",
        "    else:\n",
        "        plt.show()"
      ],
      "metadata": {
        "id": "d4o4gepLbdvS"
      },
      "execution_count": 26,
      "outputs": []
    },
    {
      "cell_type": "code",
      "source": [
        "pos = None  # Initialize position to None to use the spring layout in the first network\n",
        "filenames = []\n",
        "\n",
        "for dkey, network in dynamic_networks.items():\n",
        "    print(dkey)\n",
        "    title = f'Day {dkey}'\n",
        "    filename = f'network_{dkey}.png'\n",
        "    draw_network(network, pos, title, filename)\n",
        "    filenames.append(filename)\n",
        "    pos = nx.spring_layout(network)  # Update position based on the current network"
      ],
      "metadata": {
        "colab": {
          "base_uri": "https://localhost:8080/",
          "height": 392
        },
        "id": "gq8ixLbvbgAZ",
        "outputId": "d8fb6d81-2098-4a0f-da88-61f5f50c10fc"
      },
      "execution_count": 27,
      "outputs": [
        {
          "output_type": "stream",
          "name": "stdout",
          "text": [
            "0\n",
            "5\n"
          ]
        },
        {
          "output_type": "error",
          "ename": "KeyboardInterrupt",
          "evalue": "ignored",
          "traceback": [
            "\u001b[0;31m---------------------------------------------------------------------------\u001b[0m",
            "\u001b[0;31mKeyboardInterrupt\u001b[0m                         Traceback (most recent call last)",
            "\u001b[0;32m<ipython-input-27-d6713322dec8>\u001b[0m in \u001b[0;36m<cell line: 4>\u001b[0;34m()\u001b[0m\n\u001b[1;32m      8\u001b[0m     \u001b[0mdraw_network\u001b[0m\u001b[0;34m(\u001b[0m\u001b[0mnetwork\u001b[0m\u001b[0;34m,\u001b[0m \u001b[0mpos\u001b[0m\u001b[0;34m,\u001b[0m \u001b[0mtitle\u001b[0m\u001b[0;34m,\u001b[0m \u001b[0mfilename\u001b[0m\u001b[0;34m)\u001b[0m\u001b[0;34m\u001b[0m\u001b[0;34m\u001b[0m\u001b[0m\n\u001b[1;32m      9\u001b[0m     \u001b[0mfilenames\u001b[0m\u001b[0;34m.\u001b[0m\u001b[0mappend\u001b[0m\u001b[0;34m(\u001b[0m\u001b[0mfilename\u001b[0m\u001b[0;34m)\u001b[0m\u001b[0;34m\u001b[0m\u001b[0;34m\u001b[0m\u001b[0m\n\u001b[0;32m---> 10\u001b[0;31m     \u001b[0mpos\u001b[0m \u001b[0;34m=\u001b[0m \u001b[0mnx\u001b[0m\u001b[0;34m.\u001b[0m\u001b[0mspring_layout\u001b[0m\u001b[0;34m(\u001b[0m\u001b[0mnetwork\u001b[0m\u001b[0;34m)\u001b[0m  \u001b[0;31m# Update position based on the current network\u001b[0m\u001b[0;34m\u001b[0m\u001b[0;34m\u001b[0m\u001b[0m\n\u001b[0m",
            "\u001b[0;32m/usr/local/lib/python3.9/dist-packages/networkx/utils/decorators.py\u001b[0m in \u001b[0;36margmap_spring_layout_5\u001b[0;34m(G, k, pos, fixed, iterations, threshold, weight, scale, center, dim, seed)\u001b[0m\n\u001b[1;32m      2\u001b[0m \u001b[0;32mimport\u001b[0m \u001b[0mcollections\u001b[0m\u001b[0;34m\u001b[0m\u001b[0;34m\u001b[0m\u001b[0m\n\u001b[1;32m      3\u001b[0m \u001b[0;32mimport\u001b[0m \u001b[0mgzip\u001b[0m\u001b[0;34m\u001b[0m\u001b[0;34m\u001b[0m\u001b[0m\n\u001b[0;32m----> 4\u001b[0;31m \u001b[0;32mimport\u001b[0m \u001b[0minspect\u001b[0m\u001b[0;34m\u001b[0m\u001b[0;34m\u001b[0m\u001b[0m\n\u001b[0m\u001b[1;32m      5\u001b[0m \u001b[0;32mimport\u001b[0m \u001b[0mitertools\u001b[0m\u001b[0;34m\u001b[0m\u001b[0;34m\u001b[0m\u001b[0m\n\u001b[1;32m      6\u001b[0m \u001b[0;32mimport\u001b[0m \u001b[0mre\u001b[0m\u001b[0;34m\u001b[0m\u001b[0;34m\u001b[0m\u001b[0m\n",
            "\u001b[0;32m/usr/local/lib/python3.9/dist-packages/networkx/drawing/layout.py\u001b[0m in \u001b[0;36mspring_layout\u001b[0;34m(G, k, pos, fixed, iterations, threshold, weight, scale, center, dim, seed)\u001b[0m\n\u001b[1;32m    480\u001b[0m             \u001b[0mnnodes\u001b[0m\u001b[0;34m,\u001b[0m \u001b[0m_\u001b[0m \u001b[0;34m=\u001b[0m \u001b[0mA\u001b[0m\u001b[0;34m.\u001b[0m\u001b[0mshape\u001b[0m\u001b[0;34m\u001b[0m\u001b[0;34m\u001b[0m\u001b[0m\n\u001b[1;32m    481\u001b[0m             \u001b[0mk\u001b[0m \u001b[0;34m=\u001b[0m \u001b[0mdom_size\u001b[0m \u001b[0;34m/\u001b[0m \u001b[0mnp\u001b[0m\u001b[0;34m.\u001b[0m\u001b[0msqrt\u001b[0m\u001b[0;34m(\u001b[0m\u001b[0mnnodes\u001b[0m\u001b[0;34m)\u001b[0m\u001b[0;34m\u001b[0m\u001b[0;34m\u001b[0m\u001b[0m\n\u001b[0;32m--> 482\u001b[0;31m         pos = _sparse_fruchterman_reingold(\n\u001b[0m\u001b[1;32m    483\u001b[0m             \u001b[0mA\u001b[0m\u001b[0;34m,\u001b[0m \u001b[0mk\u001b[0m\u001b[0;34m,\u001b[0m \u001b[0mpos_arr\u001b[0m\u001b[0;34m,\u001b[0m \u001b[0mfixed\u001b[0m\u001b[0;34m,\u001b[0m \u001b[0miterations\u001b[0m\u001b[0;34m,\u001b[0m \u001b[0mthreshold\u001b[0m\u001b[0;34m,\u001b[0m \u001b[0mdim\u001b[0m\u001b[0;34m,\u001b[0m \u001b[0mseed\u001b[0m\u001b[0;34m\u001b[0m\u001b[0;34m\u001b[0m\u001b[0m\n\u001b[1;32m    484\u001b[0m         )\n",
            "\u001b[0;32m/usr/local/lib/python3.9/dist-packages/networkx/utils/decorators.py\u001b[0m in \u001b[0;36margmap__sparse_fruchterman_reingold_9\u001b[0;34m(A, k, pos, fixed, iterations, threshold, dim, seed)\u001b[0m\n\u001b[1;32m      2\u001b[0m \u001b[0;32mimport\u001b[0m \u001b[0mcollections\u001b[0m\u001b[0;34m\u001b[0m\u001b[0;34m\u001b[0m\u001b[0m\n\u001b[1;32m      3\u001b[0m \u001b[0;32mimport\u001b[0m \u001b[0mgzip\u001b[0m\u001b[0;34m\u001b[0m\u001b[0;34m\u001b[0m\u001b[0m\n\u001b[0;32m----> 4\u001b[0;31m \u001b[0;32mimport\u001b[0m \u001b[0minspect\u001b[0m\u001b[0;34m\u001b[0m\u001b[0;34m\u001b[0m\u001b[0m\n\u001b[0m\u001b[1;32m      5\u001b[0m \u001b[0;32mimport\u001b[0m \u001b[0mitertools\u001b[0m\u001b[0;34m\u001b[0m\u001b[0;34m\u001b[0m\u001b[0m\n\u001b[1;32m      6\u001b[0m \u001b[0;32mimport\u001b[0m \u001b[0mre\u001b[0m\u001b[0;34m\u001b[0m\u001b[0;34m\u001b[0m\u001b[0m\n",
            "\u001b[0;32m/usr/local/lib/python3.9/dist-packages/networkx/drawing/layout.py\u001b[0m in \u001b[0;36m_sparse_fruchterman_reingold\u001b[0;34m(A, k, pos, fixed, iterations, threshold, dim, seed)\u001b[0m\n\u001b[1;32m    614\u001b[0m                 \u001b[0;32mcontinue\u001b[0m\u001b[0;34m\u001b[0m\u001b[0;34m\u001b[0m\u001b[0m\n\u001b[1;32m    615\u001b[0m             \u001b[0;31m# difference between this row's node position and all others\u001b[0m\u001b[0;34m\u001b[0m\u001b[0;34m\u001b[0m\u001b[0m\n\u001b[0;32m--> 616\u001b[0;31m             \u001b[0mdelta\u001b[0m \u001b[0;34m=\u001b[0m \u001b[0;34m(\u001b[0m\u001b[0mpos\u001b[0m\u001b[0;34m[\u001b[0m\u001b[0mi\u001b[0m\u001b[0;34m]\u001b[0m \u001b[0;34m-\u001b[0m \u001b[0mpos\u001b[0m\u001b[0;34m)\u001b[0m\u001b[0;34m.\u001b[0m\u001b[0mT\u001b[0m\u001b[0;34m\u001b[0m\u001b[0;34m\u001b[0m\u001b[0m\n\u001b[0m\u001b[1;32m    617\u001b[0m             \u001b[0;31m# distance between points\u001b[0m\u001b[0;34m\u001b[0m\u001b[0;34m\u001b[0m\u001b[0m\n\u001b[1;32m    618\u001b[0m             \u001b[0mdistance\u001b[0m \u001b[0;34m=\u001b[0m \u001b[0mnp\u001b[0m\u001b[0;34m.\u001b[0m\u001b[0msqrt\u001b[0m\u001b[0;34m(\u001b[0m\u001b[0;34m(\u001b[0m\u001b[0mdelta\u001b[0m\u001b[0;34m**\u001b[0m\u001b[0;36m2\u001b[0m\u001b[0;34m)\u001b[0m\u001b[0;34m.\u001b[0m\u001b[0msum\u001b[0m\u001b[0;34m(\u001b[0m\u001b[0maxis\u001b[0m\u001b[0;34m=\u001b[0m\u001b[0;36m0\u001b[0m\u001b[0;34m)\u001b[0m\u001b[0;34m)\u001b[0m\u001b[0;34m\u001b[0m\u001b[0;34m\u001b[0m\u001b[0m\n",
            "\u001b[0;31mKeyboardInterrupt\u001b[0m: "
          ]
        }
      ]
    },
    {
      "cell_type": "code",
      "source": [
        "with imageio.get_writer('network_animation.gif', mode='I', duration=0.2) as writer:\n",
        "    for filename in filenames:\n",
        "        image = imageio.imread(filename)\n",
        "        writer.append_data(image)\n",
        "\n",
        "# Remove the individual image files\n",
        "for filename in filenames:\n",
        "    os.remove(filename)"
      ],
      "metadata": {
        "colab": {
          "base_uri": "https://localhost:8080/",
          "height": 232
        },
        "id": "URX1XiiObiXc",
        "outputId": "280c8f11-932a-4e7f-b622-ba2f3ca24295"
      },
      "execution_count": 18,
      "outputs": [
        {
          "output_type": "error",
          "ename": "NameError",
          "evalue": "ignored",
          "traceback": [
            "\u001b[0;31m---------------------------------------------------------------------------\u001b[0m",
            "\u001b[0;31mNameError\u001b[0m                                 Traceback (most recent call last)",
            "\u001b[0;32m<ipython-input-18-126132604671>\u001b[0m in \u001b[0;36m<cell line: 1>\u001b[0;34m()\u001b[0m\n\u001b[1;32m      1\u001b[0m \u001b[0;32mwith\u001b[0m \u001b[0mimageio\u001b[0m\u001b[0;34m.\u001b[0m\u001b[0mget_writer\u001b[0m\u001b[0;34m(\u001b[0m\u001b[0;34m'network_animation.gif'\u001b[0m\u001b[0;34m,\u001b[0m \u001b[0mmode\u001b[0m\u001b[0;34m=\u001b[0m\u001b[0;34m'I'\u001b[0m\u001b[0;34m,\u001b[0m \u001b[0mduration\u001b[0m\u001b[0;34m=\u001b[0m\u001b[0;36m0.2\u001b[0m\u001b[0;34m)\u001b[0m \u001b[0;32mas\u001b[0m \u001b[0mwriter\u001b[0m\u001b[0;34m:\u001b[0m\u001b[0;34m\u001b[0m\u001b[0;34m\u001b[0m\u001b[0m\n\u001b[0;32m----> 2\u001b[0;31m     \u001b[0;32mfor\u001b[0m \u001b[0mfilename\u001b[0m \u001b[0;32min\u001b[0m \u001b[0mfilenames\u001b[0m\u001b[0;34m:\u001b[0m\u001b[0;34m\u001b[0m\u001b[0;34m\u001b[0m\u001b[0m\n\u001b[0m\u001b[1;32m      3\u001b[0m         \u001b[0mimage\u001b[0m \u001b[0;34m=\u001b[0m \u001b[0mimageio\u001b[0m\u001b[0;34m.\u001b[0m\u001b[0mimread\u001b[0m\u001b[0;34m(\u001b[0m\u001b[0mfilename\u001b[0m\u001b[0;34m)\u001b[0m\u001b[0;34m\u001b[0m\u001b[0;34m\u001b[0m\u001b[0m\n\u001b[1;32m      4\u001b[0m         \u001b[0mwriter\u001b[0m\u001b[0;34m.\u001b[0m\u001b[0mappend_data\u001b[0m\u001b[0;34m(\u001b[0m\u001b[0mimage\u001b[0m\u001b[0;34m)\u001b[0m\u001b[0;34m\u001b[0m\u001b[0;34m\u001b[0m\u001b[0m\n\u001b[1;32m      5\u001b[0m \u001b[0;34m\u001b[0m\u001b[0m\n",
            "\u001b[0;31mNameError\u001b[0m: name 'filenames' is not defined"
          ]
        }
      ]
    },
    {
      "cell_type": "markdown",
      "source": [
        "**draw with network colors**"
      ],
      "metadata": {
        "id": "Sf5RS3LERaLI"
      }
    },
    {
      "cell_type": "code",
      "source": [
        "def draw_network(G, pos=None, title=None, filename=None):\n",
        "    plt.figure(figsize=(10, 10))\n",
        "    if not pos:\n",
        "        pos = nx.spring_layout(G, seed=42)\n",
        "    \n",
        "    nx.draw(G, pos, node_size=30, edge_color='grey', with_labels=False)\n",
        "    nx.draw_networkx_labels(G, pos, labels={n: n for n in G.nodes()}, font_size=8, font_color='black')\n",
        "    \n",
        "    if title:\n",
        "        plt.title(title)\n",
        "    if filename:\n",
        "        plt.savefig(filename, dpi=300)\n",
        "        plt.close()\n",
        "    else:\n",
        "        plt.show()"
      ],
      "metadata": {
        "id": "W--xnVMdjaPw"
      },
      "execution_count": 1,
      "outputs": []
    },
    {
      "cell_type": "code",
      "source": [
        "sector_dict = {}\n",
        "\n",
        "for ticker, ticker_data in data.items():\n",
        "    if not ticker_data.empty:\n",
        "        sector_dict[ticker] = ticker_data['Sector'][0]\n",
        "    else:\n",
        "        sector_dict[ticker] = 'N/A'"
      ],
      "metadata": {
        "id": "5dGnwx4LtV5w"
      },
      "execution_count": 37,
      "outputs": []
    },
    {
      "cell_type": "code",
      "source": [
        "# Modify sector names to be consistent with sector_colors\n",
        "for ticker, sector in sector_dict.items():\n",
        "    if sector == 'Healthcare':\n",
        "        sector_dict[ticker] = 'Health Care'\n",
        "    elif sector == 'Consumer Cyclical':\n",
        "        sector_dict[ticker] = 'Consumer Discretionary'"
      ],
      "metadata": {
        "id": "YtNwXgOB600g"
      },
      "execution_count": 42,
      "outputs": []
    },
    {
      "cell_type": "code",
      "source": [
        "import matplotlib.colors as mcolors\n",
        "\n",
        "def draw_network(G, pos=None, sector_dict=None, title=None, filename=None):\n",
        "    # Define colors for each sector\n",
        "    sector_colors = {\n",
        "    'Health Care': 'tab:red',\n",
        "    'Consumer Discretionary': 'tab:blue',\n",
        "    'Information Technology': 'tab:green',\n",
        "    'Communication Services': 'tab:orange',\n",
        "    'Financials': 'tab:purple',\n",
        "    'Materials': 'tab:brown',\n",
        "    'Real Estate': 'tab:pink',\n",
        "    'Industrials': 'tab:gray',\n",
        "    'Energy': 'tab:olive',\n",
        "    'Utilities': 'tab:cyan',\n",
        "    'Consumer Staples': 'tab:red',  # Use the same color as 'Consumer Defensive'\n",
        "    'Consumer Defensive': 'tab:red',\n",
        "    'Basic Materials': 'tab:brown',  # Use the same color as 'Materials'\n",
        "    'Financial Services': 'tab:purple',  # Use the same color as 'Financials'\n",
        "    'Technology': 'tab:green',  # Use the same color as 'Information Technology'\n",
        "    'N/A': 'tab:gray',  # Assign a default color for tickers with missing sectors\n",
        "}\n",
        "\n",
        "    if sector_dict is None:\n",
        "        sector_dict = {node: 'N/A' for node in G.nodes()}\n",
        "\n",
        "    # Create color lists for nodes and edges\n",
        "    node_colors = [sector_colors[sector_dict[node]] for node in G.nodes()]\n",
        "    edge_colors = [sector_colors[sector_dict[edge[0]]] for edge in G.edges()]\n",
        "\n",
        "    plt.figure(figsize=(12, 12))\n",
        "    \n",
        "    if not pos:\n",
        "        pos = nx.spring_layout(G, seed=42)\n",
        "\n",
        "    nx.draw(G, pos, node_color=node_colors, edge_color=edge_colors, with_labels=False, node_size=30)\n",
        "    \n",
        "    # Create a legend for the sectors\n",
        "    legend_elements = [plt.Line2D([0], [0], marker='o', color=color, label=sector, markersize=8) for sector, color in sector_colors.items()]\n",
        "    plt.legend(handles=legend_elements, loc='center left', bbox_to_anchor=(1, 0.5), ncol=1)\n",
        "\n",
        "    if title:\n",
        "        plt.title(title)\n",
        "    if filename:\n",
        "        plt.savefig(filename, dpi=300, bbox_inches='tight')\n",
        "        plt.close()\n",
        "    else:\n",
        "        plt.show()\n"
      ],
      "metadata": {
        "id": "kKSyy50Jtm2I"
      },
      "execution_count": 45,
      "outputs": []
    },
    {
      "cell_type": "code",
      "source": [
        "pos = None  # Initialize position to None to use the spring layout in the first network\n",
        "filenames = []\n",
        "\n",
        "for dkey, network in dynamic_networks.items():\n",
        "    print(dkey)\n",
        "    title = f'Day {dkey}'\n",
        "    filename = f'network_{dkey}.png'\n",
        "    draw_network(network, pos, sector_dict, title, filename)\n",
        "    filenames.append(filename)\n",
        "    pos = nx.spring_layout(network, seed=42)  # Update position based on the current network"
      ],
      "metadata": {
        "id": "JzCarMuu5cYa"
      },
      "execution_count": null,
      "outputs": []
    },
    {
      "cell_type": "code",
      "source": [
        "filenames = []\n",
        "\n",
        "for i in range(0, 1200, 5):\n",
        "    filename = f\"network_{i}.png\"\n",
        "    filenames.append(filename)"
      ],
      "metadata": {
        "id": "EfAEHTlTLshI"
      },
      "execution_count": 4,
      "outputs": []
    },
    {
      "cell_type": "code",
      "source": [
        "import imageio\n",
        "import os\n",
        "\n",
        "with imageio.get_writer('network_animation_colores.gif', mode='I', duration=0.2) as writer:\n",
        "    for filename in filenames:\n",
        "        image = imageio.imread(filename)\n",
        "        writer.append_data(image)\n",
        "\n",
        "# Remove the individual image files\n",
        "for filename in filenames:\n",
        "    os.remove(filename)"
      ],
      "metadata": {
        "colab": {
          "base_uri": "https://localhost:8080/",
          "height": 252
        },
        "id": "_xXZVSagKfIi",
        "outputId": "3f8f7f9a-5b05-43de-f5e0-32f5234bd1e3"
      },
      "execution_count": 5,
      "outputs": [
        {
          "output_type": "stream",
          "name": "stderr",
          "text": [
            "<ipython-input-5-db550da7c85b>:5: DeprecationWarning: Starting with ImageIO v3 the behavior of this function will switch to that of iio.v3.imread. To keep the current behavior (and make this warning disappear) use `import imageio.v2 as imageio` or call `imageio.v2.imread` directly.\n",
            "  image = imageio.imread(filename)\n"
          ]
        },
        {
          "output_type": "error",
          "ename": "NameError",
          "evalue": "ignored",
          "traceback": [
            "\u001b[0;31m---------------------------------------------------------------------------\u001b[0m",
            "\u001b[0;31mNameError\u001b[0m                                 Traceback (most recent call last)",
            "\u001b[0;32m<ipython-input-5-db550da7c85b>\u001b[0m in \u001b[0;36m<cell line: 9>\u001b[0;34m()\u001b[0m\n\u001b[1;32m      8\u001b[0m \u001b[0;31m# Remove the individual image files\u001b[0m\u001b[0;34m\u001b[0m\u001b[0;34m\u001b[0m\u001b[0m\n\u001b[1;32m      9\u001b[0m \u001b[0;32mfor\u001b[0m \u001b[0mfilename\u001b[0m \u001b[0;32min\u001b[0m \u001b[0mfilenames\u001b[0m\u001b[0;34m:\u001b[0m\u001b[0;34m\u001b[0m\u001b[0;34m\u001b[0m\u001b[0m\n\u001b[0;32m---> 10\u001b[0;31m     \u001b[0mos\u001b[0m\u001b[0;34m.\u001b[0m\u001b[0mremove\u001b[0m\u001b[0;34m(\u001b[0m\u001b[0mfilename\u001b[0m\u001b[0;34m)\u001b[0m\u001b[0;34m\u001b[0m\u001b[0;34m\u001b[0m\u001b[0m\n\u001b[0m",
            "\u001b[0;31mNameError\u001b[0m: name 'os' is not defined"
          ]
        }
      ]
    }
  ]
}